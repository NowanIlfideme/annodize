{
 "cells": [
  {
   "cell_type": "code",
   "execution_count": 22,
   "metadata": {},
   "outputs": [],
   "source": [
    "from pathlib import Path\n",
    "from typing import *\n",
    "\n",
    "import numpy as np\n",
    "import pandas as pd\n",
    "import matplotlib.pyplot as plt\n",
    "from pydantic import BaseModel\n",
    "from pydantic_yaml import YamlModel\n",
    "\n",
    "import networkx as nx\n",
    "\n",
    "from annodize.field import Field, FunctionFields, NamespaceFields"
   ]
  },
  {
   "cell_type": "code",
   "execution_count": 16,
   "metadata": {},
   "outputs": [],
   "source": [
    "def get_type_name(type_: type) -> str:\n",
    "    \"\"\"Gets a type's full name (including module).\"\"\"\n",
    "    mod = getattr(type_, \"__module__\", \"\")\n",
    "    return f\"{mod}:{type_.__qualname__}\"\n",
    "\n",
    "def get_func_name(func: Callable) -> str:\n",
    "    \"\"\"Gets a function's full name.\"\"\"\n",
    "    mod = getattr(func, \"__module__\", \"\")\n",
    "    return f\"{mod}:{func.__qualname__}\"\n"
   ]
  },
  {
   "cell_type": "code",
   "execution_count": 12,
   "metadata": {},
   "outputs": [
    {
     "data": {
      "text/plain": [
       "'pandas.core.frame:DataFrame'"
      ]
     },
     "execution_count": 12,
     "metadata": {},
     "output_type": "execute_result"
    }
   ],
   "source": [
    "get_type_name(pd.DataFrame)"
   ]
  },
  {
   "cell_type": "code",
   "execution_count": 24,
   "metadata": {},
   "outputs": [],
   "source": [
    "class ConvRegistry(object):\n",
    "\n",
    "    def __init__(self):\n",
    "        self.g = nx.DiGraph()\n",
    "\n",
    "    def register(self, func: Callable):\n",
    "        \"\"\"Registers a converter.\"\"\"\n",
    "        ff = FunctionFields.from_callable(func)\n",
    "        n_func = get_func_name(func)\n",
    "        # Add nodes and edges\n",
    "        self.g.add_node(n_func, kind=\"loader\", func=func)\n",
    "        # Output node\n",
    "        fld = ff.output_field\n",
    "        n_typ = get_type_name(fld.type_)\n",
    "        self.g.add_node(n_typ, type_=fld.type_)\n",
    "        self.g.add_edge(n_func, n_typ, arg_name=fld.name)\n",
    "        # Input nodes\n",
    "        for fld in ff.input_fields:\n",
    "            n_typ = get_type_name(fld.type_)\n",
    "            self.g.add_node(n_typ, type_=fld.type_)\n",
    "            self.g.add_edge(n_typ, n_func, arg_name=fld.name)\n",
    "\n",
    "cr = ConvRegistry()"
   ]
  },
  {
   "cell_type": "code",
   "execution_count": 25,
   "metadata": {},
   "outputs": [],
   "source": [
    "@cr.register\n",
    "def path_to_df(path: Path) -> pd.DataFrame:\n",
    "    # gross oversimplification :D\n",
    "    return pd.read_parquet(path)"
   ]
  },
  {
   "cell_type": "code",
   "execution_count": 26,
   "metadata": {},
   "outputs": [
    {
     "data": {
      "image/png": "[encoded data removed]",
      "text/plain": [
       "<Figure size 432x288 with 1 Axes>"
      ]
     },
     "metadata": {},
     "output_type": "display_data"
    }
   ],
   "source": [
    "nx.draw_networkx(cr.g)"
   ]
  },
  {
   "cell_type": "code",
   "execution_count": null,
   "metadata": {},
   "outputs": [],
   "source": []
  },
  {
   "cell_type": "code",
   "execution_count": null,
   "metadata": {},
   "outputs": [],
   "source": [
    "class GlobalLS(object):\n",
    "    \"\"\"Global load/save interface.\"\"\"\n",
    "\n",
    "    def load(self, field: Field, value: Any) -> Any:\n",
    "        \"\"\"Loads the object given by a field.\"\"\"\n",
    "        if isinstance(value, field.type_):\n",
    "            return value\n",
    "        \n",
    "\n",
    "    def save(self, field: Field, obj: Any):\n",
    "        \"\"\"Saves the object given by a field.\"\"\"\n",
    "        if field.has_args:\n",
    "            pass\n"
   ]
  },
  {
   "cell_type": "code",
   "execution_count": 3,
   "metadata": {},
   "outputs": [
    {
     "data": {
      "text/plain": [
       "pandas.core.frame.DataFrame"
      ]
     },
     "execution_count": 3,
     "metadata": {},
     "output_type": "execute_result"
    }
   ],
   "source": [
    "pd.DataFrame"
   ]
  },
  {
   "cell_type": "code",
   "execution_count": null,
   "metadata": {},
   "outputs": [],
   "source": []
  }
 ],
 "metadata": {
  "kernelspec": {
   "display_name": "Python 3.10.2 ('annodize')",
   "language": "python",
   "name": "python3"
  },
  "language_info": {
   "codemirror_mode": {
    "name": "ipython",
    "version": 3
   },
   "file_extension": ".py",
   "mimetype": "text/x-python",
   "name": "python",
   "nbconvert_exporter": "python",
   "pygments_lexer": "ipython3",
   "version": "3.10.2"
  },
  "orig_nbformat": 4,
  "vscode": {
   "interpreter": {
    "hash": "115753121d503a96e5ee9ff1cf44b832d9a8c1718041e1892e2881378b1cd4cc"
   }
  }
 },
 "nbformat": 4,
 "nbformat_minor": 2
}
